{
  "nbformat": 4,
  "nbformat_minor": 0,
  "metadata": {
    "colab": {
      "name": "AnantDev.ipynb",
      "provenance": [],
      "authorship_tag": "ABX9TyOgcTyeTQLyJR4FsFylTGZQ",
      "include_colab_link": true
    },
    "kernelspec": {
      "name": "python3",
      "display_name": "Python 3"
    }
  },
  "cells": [
    {
      "cell_type": "markdown",
      "metadata": {
        "id": "view-in-github",
        "colab_type": "text"
      },
      "source": [
        "<a href=\"https://colab.research.google.com/github/Hunter-77/hello-world/blob/master/AnantDev.ipynb\" target=\"_parent\"><img src=\"https://colab.research.google.com/assets/colab-badge.svg\" alt=\"Open In Colab\"/></a>"
      ]
    },
    {
      "cell_type": "markdown",
      "metadata": {
        "id": "iNZjHZk-9Cdz"
      },
      "source": [
        "Importing Important Libraries....\n"
      ]
    },
    {
      "cell_type": "code",
      "metadata": {
        "id": "PaVWQc79-b55"
      },
      "source": [
        "import pandas as pd\n",
        "import numpy as np"
      ],
      "execution_count": null,
      "outputs": []
    },
    {
      "cell_type": "markdown",
      "metadata": {
        "id": "mrLsuVXU9H3p"
      },
      "source": [
        "Importing Important Dataset files......."
      ]
    },
    {
      "cell_type": "code",
      "metadata": {
        "id": "7pIqSmGKm8L7"
      },
      "source": [
        "from sklearn.datasets import load_iris\n",
        "iris_dataset = load_iris()"
      ],
      "execution_count": null,
      "outputs": []
    },
    {
      "cell_type": "markdown",
      "metadata": {
        "id": "8ws0cYVu9Ryo"
      },
      "source": [
        "Printing the Keys Present in the IRIS dataset"
      ]
    },
    {
      "cell_type": "code",
      "metadata": {
        "colab": {
          "base_uri": "https://localhost:8080/"
        },
        "id": "koFYcajYnr2X",
        "outputId": "50425a27-6a6e-47f2-8127-93e0c3f049dd"
      },
      "source": [
        "print(\"Keys Of IRIS dataset: \\n{}\".format(iris_dataset.keys()))"
      ],
      "execution_count": null,
      "outputs": [
        {
          "output_type": "stream",
          "text": [
            "Keys Of IRIS dataset: \n",
            "dict_keys(['data', 'target', 'target_names', 'DESCR', 'feature_names', 'filename'])\n"
          ],
          "name": "stdout"
        }
      ]
    },
    {
      "cell_type": "markdown",
      "metadata": {
        "id": "APsVLVzp9Yr9"
      },
      "source": [
        "Key dataset Description!!"
      ]
    },
    {
      "cell_type": "code",
      "metadata": {
        "id": "jDQkPhmhpUlA"
      },
      "source": [
        "value = iris_dataset['DESCR']\n",
        "start_value = value[:200]\n",
        "print(start_value + \"\\n...\")"
      ],
      "execution_count": null,
      "outputs": []
    },
    {
      "cell_type": "markdown",
      "metadata": {
        "id": "UFlNQ5HD9lGB"
      },
      "source": [
        "key Target Names Printing........"
      ]
    },
    {
      "cell_type": "code",
      "metadata": {
        "colab": {
          "base_uri": "https://localhost:8080/"
        },
        "id": "Oy0rETEYqC8-",
        "outputId": "13cf3470-a3d1-4af9-eda4-b6931acf338f"
      },
      "source": [
        "print(\"Target Names: {}\".format(iris_dataset['target_names']))"
      ],
      "execution_count": null,
      "outputs": [
        {
          "output_type": "stream",
          "text": [
            "Target Names: ['setosa' 'versicolor' 'virginica']\n"
          ],
          "name": "stdout"
        }
      ]
    },
    {
      "cell_type": "markdown",
      "metadata": {
        "id": "ksJtKb2J9qE5"
      },
      "source": [
        "Printing the types of Features present in IRIS Dataset"
      ]
    },
    {
      "cell_type": "code",
      "metadata": {
        "colab": {
          "base_uri": "https://localhost:8080/"
        },
        "id": "dzChLPSuqo4R",
        "outputId": "760c99a6-a616-4315-acde-423956ed342d"
      },
      "source": [
        "print(\"Feature Names: \\n {}\".format(iris_dataset['feature_names']))"
      ],
      "execution_count": null,
      "outputs": [
        {
          "output_type": "stream",
          "text": [
            "Feature Names: \n",
            " ['sepal length (cm)', 'sepal width (cm)', 'petal length (cm)', 'petal width (cm)']\n"
          ],
          "name": "stdout"
        }
      ]
    },
    {
      "cell_type": "markdown",
      "metadata": {
        "id": "PmoZ0U8l9y7q"
      },
      "source": [
        "Priting type of data present........."
      ]
    },
    {
      "cell_type": "code",
      "metadata": {
        "colab": {
          "base_uri": "https://localhost:8080/"
        },
        "id": "mz7uKYK6q5Vb",
        "outputId": "4eec5ef5-3be1-460a-b12f-22df2341126b"
      },
      "source": [
        "print(\"Type Of DATA : {}\".format(type(iris_dataset['data'])))"
      ],
      "execution_count": null,
      "outputs": [
        {
          "output_type": "stream",
          "text": [
            "Type Of DATA : <class 'numpy.ndarray'>\n"
          ],
          "name": "stdout"
        }
      ]
    },
    {
      "cell_type": "markdown",
      "metadata": {
        "id": "9M-FYGxj94ZQ"
      },
      "source": [
        "Printing the shape Of DATA Present ......"
      ]
    },
    {
      "cell_type": "code",
      "metadata": {
        "colab": {
          "base_uri": "https://localhost:8080/"
        },
        "id": "n3vdqAEhrZ5Z",
        "outputId": "186800d6-a6ff-4758-9476-511fc819b884"
      },
      "source": [
        "print(\"Shape Of DATA : {}\".format(iris_dataset['data'].shape))"
      ],
      "execution_count": null,
      "outputs": [
        {
          "output_type": "stream",
          "text": [
            "Shape Of DATA : (150, 4)\n"
          ],
          "name": "stdout"
        }
      ]
    },
    {
      "cell_type": "markdown",
      "metadata": {
        "id": "cCJQkTaX9-dO"
      },
      "source": [
        "How the dataset looks like Example of first 10 ROWS"
      ]
    },
    {
      "cell_type": "code",
      "metadata": {
        "id": "GJJA1xM3rZgg"
      },
      "source": [
        "print(\"First 10 Rows of DATASET: \\n{}\".format(iris_dataset['data'][:10]))"
      ],
      "execution_count": null,
      "outputs": []
    },
    {
      "cell_type": "markdown",
      "metadata": {
        "id": "GXY4PH6b-KMb"
      },
      "source": [
        "Printing the type of target key!!!"
      ]
    },
    {
      "cell_type": "code",
      "metadata": {
        "colab": {
          "base_uri": "https://localhost:8080/"
        },
        "id": "cWSGg74Psews",
        "outputId": "fa616cc0-16ef-43e9-debd-e399c7680bdd"
      },
      "source": [
        "print(\"Type of Target: {}\".format(type(iris_dataset['target'])))"
      ],
      "execution_count": null,
      "outputs": [
        {
          "output_type": "stream",
          "text": [
            "Type of Target: <class 'numpy.ndarray'>\n"
          ],
          "name": "stdout"
        }
      ]
    },
    {
      "cell_type": "markdown",
      "metadata": {
        "id": "eUKgcSOG-TM_"
      },
      "source": [
        "Printing the shape of target datakey!!!"
      ]
    },
    {
      "cell_type": "code",
      "metadata": {
        "colab": {
          "base_uri": "https://localhost:8080/"
        },
        "id": "8aEifMjLsx2z",
        "outputId": "5444a184-a8df-4d5f-bfd9-665e1b95a880"
      },
      "source": [
        "print(\"Shape Of Target: {}\".format(iris_dataset['target'].shape))"
      ],
      "execution_count": null,
      "outputs": [
        {
          "output_type": "stream",
          "text": [
            "Shape Of Target: (150,)\n"
          ],
          "name": "stdout"
        }
      ]
    },
    {
      "cell_type": "markdown",
      "metadata": {
        "id": "boZCX2Ea-XWN"
      },
      "source": [
        "Printing the Target Dataset.............."
      ]
    },
    {
      "cell_type": "code",
      "metadata": {
        "colab": {
          "base_uri": "https://localhost:8080/"
        },
        "id": "d4XyJV-LtGUx",
        "outputId": "d94194c5-c2ba-4650-ac84-36f6d6717709"
      },
      "source": [
        "print(\"Target:\\n{}\".format(iris_dataset['target']))"
      ],
      "execution_count": null,
      "outputs": [
        {
          "output_type": "stream",
          "text": [
            "Target:\n",
            "[0 0 0 0 0 0 0 0 0 0 0 0 0 0 0 0 0 0 0 0 0 0 0 0 0 0 0 0 0 0 0 0 0 0 0 0 0\n",
            " 0 0 0 0 0 0 0 0 0 0 0 0 0 1 1 1 1 1 1 1 1 1 1 1 1 1 1 1 1 1 1 1 1 1 1 1 1\n",
            " 1 1 1 1 1 1 1 1 1 1 1 1 1 1 1 1 1 1 1 1 1 1 1 1 1 1 2 2 2 2 2 2 2 2 2 2 2\n",
            " 2 2 2 2 2 2 2 2 2 2 2 2 2 2 2 2 2 2 2 2 2 2 2 2 2 2 2 2 2 2 2 2 2 2 2 2 2\n",
            " 2 2]\n"
          ],
          "name": "stdout"
        }
      ]
    },
    {
      "cell_type": "markdown",
      "metadata": {
        "id": "q5Jdk1Cn-cg2"
      },
      "source": [
        "Importing train_test_split from model selection of sklearn"
      ]
    },
    {
      "cell_type": "code",
      "metadata": {
        "id": "BA80rcrDtmUV"
      },
      "source": [
        "from sklearn.model_selection import train_test_split\n",
        "Xtrain, Xtest, Ytrain, Ytest = train_test_split(\n",
        "              iris_dataset['data'], iris_dataset['target'], random_state = 0)"
      ],
      "execution_count": null,
      "outputs": []
    },
    {
      "cell_type": "markdown",
      "metadata": {
        "id": "wSiw2KVQ-l73"
      },
      "source": [
        "Printing the Tuple Returned from train_test_split"
      ]
    },
    {
      "cell_type": "code",
      "metadata": {
        "id": "59yLimVCzLgJ"
      },
      "source": [
        "print(\"X_train shape: {}\".format(Xtrain.shape))\n",
        "print(\"Y_train shape: {}\".format(Ytrain.shape))\n",
        "print(\"X_test shape: {}\".format(Xtest.shape))\n",
        "print(\"Y_test shape: {}\".format(Ytest.shape))"
      ],
      "execution_count": null,
      "outputs": []
    },
    {
      "cell_type": "markdown",
      "metadata": {
        "id": "dyoxuqpU-uZK"
      },
      "source": [
        "Implementing K Nearest Neighbors"
      ]
    },
    {
      "cell_type": "code",
      "metadata": {
        "id": "ssPbxxIdzrec"
      },
      "source": [
        "from sklearn.neighbors import KNeighborsClassifier\n",
        "knc = KNeighborsClassifier(n_neighbors = 1)"
      ],
      "execution_count": null,
      "outputs": []
    },
    {
      "cell_type": "code",
      "metadata": {
        "id": "6CGtraci40ys"
      },
      "source": [
        "knc.fit(Xtrain, Ytrain)"
      ],
      "execution_count": null,
      "outputs": []
    },
    {
      "cell_type": "markdown",
      "metadata": {
        "id": "Q2lTRFuX--MW"
      },
      "source": [
        "Example Using for checking accuracy......"
      ]
    },
    {
      "cell_type": "code",
      "metadata": {
        "id": "y6VPm_ZK5VFW"
      },
      "source": [
        "X_new = np.array([[5, 2.9, 1, 0.2]])\n",
        "print(\"X_new.shape : {}\".format(X_new.shape))"
      ],
      "execution_count": null,
      "outputs": []
    },
    {
      "cell_type": "markdown",
      "metadata": {
        "id": "PN4mbhR__FgV"
      },
      "source": [
        "Doing the Predictions!!!"
      ]
    },
    {
      "cell_type": "code",
      "metadata": {
        "colab": {
          "base_uri": "https://localhost:8080/"
        },
        "id": "MXRQGAoO50UZ",
        "outputId": "d5663ff5-6679-4bd2-b1dd-3c75d92cd627"
      },
      "source": [
        "prediction = knc.predict(X_new)\n",
        "\n",
        "print(\"Prediction : {}\".format(prediction))\n",
        "print(\"Predicted Target Name: {}\".format(iris_dataset['target_names'][prediction]))"
      ],
      "execution_count": null,
      "outputs": [
        {
          "output_type": "stream",
          "text": [
            "Prediction : [0]\n",
            "Predicted Target Name: ['setosa']\n"
          ],
          "name": "stdout"
        }
      ]
    },
    {
      "cell_type": "markdown",
      "metadata": {
        "id": "v1qS1RdC_LMj"
      },
      "source": [
        "Printing the Complete Predictions Set!!!"
      ]
    },
    {
      "cell_type": "code",
      "metadata": {
        "colab": {
          "base_uri": "https://localhost:8080/"
        },
        "id": "YNp1RumG6x7s",
        "outputId": "1301f472-ebed-48c4-f24b-c2e427ed56f2"
      },
      "source": [
        "y_pred = knc.predict(Xtest)\n",
        "print(\"Test Set Predictions: \\n {}\".format(y_pred))"
      ],
      "execution_count": null,
      "outputs": [
        {
          "output_type": "stream",
          "text": [
            "Test Set Predictions: \n",
            " [2 1 0 2 0 2 0 1 1 1 2 1 1 1 1 0 1 1 0 0 2 1 0 0 2 0 0 1 1 0 2 1 0 2 2 1 0\n",
            " 2]\n"
          ],
          "name": "stdout"
        }
      ]
    },
    {
      "cell_type": "markdown",
      "metadata": {
        "id": "g9qssE5b_Rrp"
      },
      "source": [
        "Printing the Accuracy Of Model!! #Result"
      ]
    },
    {
      "cell_type": "code",
      "metadata": {
        "colab": {
          "base_uri": "https://localhost:8080/"
        },
        "id": "kNrY96_27Gdf",
        "outputId": "c7d9ac03-85b4-41cd-d293-fe25a1b66489"
      },
      "source": [
        "print(\"Test Set Score: {}\".format(np.mean(y_pred == Ytest)))"
      ],
      "execution_count": null,
      "outputs": [
        {
          "output_type": "stream",
          "text": [
            "Test Set Score: 0.9736842105263158\n"
          ],
          "name": "stdout"
        }
      ]
    },
    {
      "cell_type": "markdown",
      "metadata": {
        "id": "1U_0aKv9_YDP"
      },
      "source": [
        "END OF PROGRAM!!!"
      ]
    }
  ]
}